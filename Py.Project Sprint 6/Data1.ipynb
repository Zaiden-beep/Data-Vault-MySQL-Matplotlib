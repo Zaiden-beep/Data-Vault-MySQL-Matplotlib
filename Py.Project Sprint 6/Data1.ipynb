from matplotlib import pyplot as plt
from matplotlib import style
style.use ('ggplot')
import numpy as np
import mysql.connector


mydb = mysql.connector.connect(
  host="127.0.0.1",
  user="root",
  passwd="*****",
  database="My_Products_Databse")
  
cursor = mydb.cursor()

sql = "SELECT * FROM my_products_databse.`my_products_databse - sheet1`;"

cursor.execute(sql)
myresult = cursor.fetchall()

for x in myresult:
  print(x)


    
'''Quality,Products = np.loadtxt('my_products_databse - sheet1',
                                 unpack = True,
                                 delimiter = ';')
plt.plot(Quality)'''
                                
plt.title('STORE DATA OF PRODUCT & BRANDS')
plt.ylabel('Quatity')
plt.xlabel('Products')


plt.show()

